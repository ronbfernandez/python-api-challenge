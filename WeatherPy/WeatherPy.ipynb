{
 "cells": [
  {
   "cell_type": "code",
   "execution_count": 1,
   "metadata": {},
   "outputs": [],
   "source": [
    "# Dependencies and Setup\n",
    "import matplotlib.pyplot as plt\n",
    "import pandas as pd\n",
    "import numpy as np\n",
    "import requests\n",
    "import time\n",
    "from scipy.stats import linregress\n",
    "\n",
    "# Import API key\n",
    "from api_keys import weather_api_key\n",
    "\n",
    "# Incorporated citipy to determine city based on latitude and longitude\n",
    "from citipy import citipy\n",
    "\n",
    "# Output File (CSV)\n",
    "output_data_file = \"output_data/cities.csv\"\n",
    "\n",
    "# Range of latitudes and longitudes\n",
    "lat_range = (-90, 90)\n",
    "lng_range = (-180, 180)"
   ]
  },
  {
   "cell_type": "code",
   "execution_count": 2,
   "metadata": {},
   "outputs": [
    {
     "data": {
      "text/plain": [
       "613"
      ]
     },
     "execution_count": 2,
     "metadata": {},
     "output_type": "execute_result"
    }
   ],
   "source": [
    "# List for holding lat_lngs and cities\n",
    "lat_lngs = []\n",
    "cities = []\n",
    "\n",
    "# Create a set of random lat and lng combinations\n",
    "lats = np.random.uniform(lat_range[0], lat_range[1], size=1500)\n",
    "lngs = np.random.uniform(lng_range[0], lng_range[1], size=1500)\n",
    "lat_lngs = zip(lats, lngs)\n",
    "\n",
    "# Identify nearest city for each lat, lng combination\n",
    "for lat_lng in lat_lngs:\n",
    "    city = citipy.nearest_city(lat_lng[0], lat_lng[1]).city_name\n",
    "    \n",
    "    # If the city is unique, then add it to a our cities list\n",
    "    if city not in cities:\n",
    "        cities.append(city)\n",
    "\n",
    "# Print the city count to confirm sufficient count\n",
    "len(cities)"
   ]
  },
  {
   "cell_type": "code",
   "execution_count": 7,
   "metadata": {},
   "outputs": [],
   "source": [
    "#Perform API Calls\n",
    "#Perform a weather check on each city using a series of successive API calls.\n",
    "#Include a print log of each city as it'sbeing processed (with the city number and city name).\n",
    "\n",
    "# Initialize data frame to store data from API calls\n",
    "df =pd.DataFrame(columns = [\"City\",\"Cloudiness\", \"Country\",\n",
    "                                    \"Date\", \"Max Temp\", \"Wind Speed\", \n",
    "                                    \"Lat\",\"Lng\", \"Humidity\"])"
   ]
  },
  {
   "cell_type": "code",
   "execution_count": 8,
   "metadata": {},
   "outputs": [
    {
     "name": "stdout",
     "output_type": "stream",
     "text": [
      "Beginning Data Retrieval\n",
      "------------------------\n"
     ]
    }
   ],
   "source": [
    "record=0\n",
    "print(\"Beginning Data Retrieval\")\n",
    "print(\"------------------------\")\n",
    "\n",
    "for index, row in df.iterrows():\n",
    "    record += 1\n",
    "    city = row[\"Cities\"]\n",
    "    query_url = url + \"appid=\" + owm +\"&q=\" + city + \"&units=imperial\"\n",
    "    try:\n",
    "        resp = requests.get(query_url).json()\n",
    "        \n",
    "        df.loc[index,\"Lat\"]= resp[\"coord\"][\"lat\"]\n",
    "        df.loc[index,\"Lng\"]= resp[\"coord\"][\"lon\"]\n",
    "        df.loc[index,\"Max Temp\"]= resp[\"main\"][\"temp_max\"]\n",
    "        df.loc[index,\"Humidity\"]= resp[\"main\"][\"humidity\"]\n",
    "        df.loc[index,\"Cloudiness\"]= resp[\"clouds\"][\"all\"]\n",
    "        df.loc[index,\"Wind Speed\"]= resp[\"wind\"][\"speed\"]\n",
    "        df.loc[index,\"Country\"]= resp[\"sys\"][\"country\"]\n",
    "        df.loc[index,\"Date\"]= resp[\"dt\"]\n",
    "        \n",
    "        print(f\"Processing Record {record} / {city}\")\n",
    "    \n",
    "    except:\n",
    "        df.drop(index, inplace=True)\n",
    "        print(\"City not found. Skipping...\")\n",
    "        \n",
    "        "
   ]
  },
  {
   "cell_type": "code",
   "execution_count": null,
   "metadata": {},
   "outputs": [],
   "source": [
    "# Display the count of cities with weather data\n",
    "WeatherPy_df.count()"
   ]
  },
  {
   "cell_type": "code",
   "execution_count": null,
   "metadata": {},
   "outputs": [],
   "source": [
    "# save to csv file\n",
    "WeatherPy_df.to_csv(\"WeatherPy.csv\", encoding='utf-8', index=False)\n",
    "\n",
    "# Display the city weather data frame\n",
    "WeatherPy_df.head(10)"
   ]
  },
  {
   "cell_type": "code",
   "execution_count": null,
   "metadata": {},
   "outputs": [],
   "source": []
  }
 ],
 "metadata": {
  "kernelspec": {
   "display_name": "Python 3",
   "language": "python",
   "name": "python3"
  },
  "language_info": {
   "codemirror_mode": {
    "name": "ipython",
    "version": 3
   },
   "file_extension": ".py",
   "mimetype": "text/x-python",
   "name": "python",
   "nbconvert_exporter": "python",
   "pygments_lexer": "ipython3",
   "version": "3.8.5"
  }
 },
 "nbformat": 4,
 "nbformat_minor": 2
}
